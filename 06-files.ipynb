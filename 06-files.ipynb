{
 "cells": [
  {
   "cell_type": "markdown",
   "id": "e1454ddd",
   "metadata": {},
   "source": [
    "# Files\n",
    "\n",
    "At the start of this course, we looked at lists and loops; then we moved\n",
    "on to using numpy arrays to look at the inflammation data in more depth,\n",
    "and using matplotlib to visualise the data.\n",
    "How can we combine these different topics to process *all* the data?\n",
    "\n",
    "## Finding multiple files\n",
    "\n",
    "As a final piece to processing our inflammation data, we need a way to get a list of all the files\n",
    "in our `data` directory whose names start with `inflammation-` and end with `.csv`.\n",
    "The following library will help us to achieve this:"
   ]
  },
  {
   "cell_type": "code",
   "execution_count": null,
   "id": "dc5588d4",
   "metadata": {},
   "outputs": [],
   "source": [
    "import glob"
   ]
  },
  {
   "cell_type": "markdown",
   "id": "a6b87d91",
   "metadata": {},
   "source": [
    "The `glob` library contains a function, also called `glob`,\n",
    "that finds files and directories whose names match a pattern.\n",
    "We provide those patterns as strings:\n",
    "the character `*` matches zero or more characters,\n",
    "while `?` matches any one character.\n",
    "We can use this to get the names of all the CSV files in the current directory:"
   ]
  },
  {
   "cell_type": "code",
   "execution_count": null,
   "id": "c90243e8",
   "metadata": {},
   "outputs": [],
   "source": [
    "print(glob.glob('inflammation*.csv'))"
   ]
  },
  {
   "cell_type": "markdown",
   "id": "64687d58",
   "metadata": {},
   "source": [
    "As these examples show,\n",
    "`glob.glob`'s result is a list of file and directory paths in arbitrary order.\n",
    "This means we can loop over it\n",
    "to do something with each filename in turn.\n",
    "In our case,\n",
    "the \"something\" we want to do is generate a set of plots for each file in our inflammation dataset.\n",
    "\n",
    "## Plotting multiple datasets\n",
    "\n",
    "If we want to start by analyzing just the first three files in alphabetical order, we can use the\n",
    "`sorted` built-in function to generate a new sorted list from the `glob.glob` output:"
   ]
  },
  {
   "cell_type": "code",
   "execution_count": null,
   "id": "a4164118",
   "metadata": {
    "lines_to_next_cell": 2
   },
   "outputs": [],
   "source": [
    "import glob\n",
    "import numpy\n",
    "import matplotlib.pyplot\n",
    "\n",
    "filenames = sorted(glob.glob('inflammation*.csv'))\n",
    "filenames = filenames[0:3]\n",
    "for filename in filenames:\n",
    "    print(filename)\n",
    "\n",
    "    data = numpy.loadtxt(fname=filename, delimiter=',')\n",
    "\n",
    "    fig = matplotlib.pyplot.figure(figsize=(10.0, 3.0))\n",
    "\n",
    "    axes1 = fig.add_subplot(1, 3, 1)\n",
    "    axes2 = fig.add_subplot(1, 3, 2)\n",
    "    axes3 = fig.add_subplot(1, 3, 3)\n",
    "\n",
    "    axes1.set_ylabel('average')\n",
    "    axes1.plot(numpy.mean(data, axis=0))\n",
    "\n",
    "    axes2.set_ylabel('max')\n",
    "    axes2.plot(numpy.amax(data, axis=0))\n",
    "\n",
    "    axes3.set_ylabel('min')\n",
    "    axes3.plot(numpy.amin(data, axis=0))\n",
    "\n",
    "    fig.tight_layout()\n",
    "    matplotlib.pyplot.show()"
   ]
  },
  {
   "cell_type": "markdown",
   "id": "8f0c594a",
   "metadata": {},
   "source": [
    "The plots generated for the second clinical trial file look very similar to the plots for\n",
    "the first file: their average plots show similar \"noisy\" rises and falls; their maxima plots\n",
    "show exactly the same linear rise and fall; and their minima plots show similar staircase\n",
    "structures.\n",
    "\n",
    "The third dataset shows much noisier average and maxima plots that are far less suspicious than\n",
    "the first two datasets, however the minima plot shows that the third dataset minima is\n",
    "consistently zero across every day of the trial. If we produce a heat map for the third data file\n",
    "we see that there are zero values sporadically distributed across all patients and days of the\n",
    "clinical trial, suggesting that there were potential issues with data collection throughout the\n",
    "trial. In addition, we can see that the last patient in the study didn't have any inflammation\n",
    "flare-ups at all throughout the trial, suggesting that they may not even suffer from arthritis!\n"
   ]
  },
  {
   "cell_type": "markdown",
   "id": "75a86e10",
   "metadata": {},
   "source": [
    "## Plotting Differences\n",
    "\n",
    "Plot the difference between the average inflammations reported in the first and second datasets\n",
    "(stored in `inflammation-01.csv` and `inflammation-02.csv`, correspondingly),\n",
    "i.e., the difference between the leftmost plots of the first two figures.\n"
   ]
  },
  {
   "cell_type": "markdown",
   "id": "f4d5d738",
   "metadata": {},
   "source": [
    "## Solution"
   ]
  },
  {
   "cell_type": "code",
   "execution_count": null,
   "id": "1e8afa83",
   "metadata": {
    "lines_to_next_cell": 2
   },
   "outputs": [],
   "source": [
    "import glob\n",
    "import numpy\n",
    "import matplotlib.pyplot\n",
    "\n",
    "filenames = sorted(glob.glob('inflammation*.csv'))\n",
    "\n",
    "data0 = numpy.loadtxt(fname=filenames[0], delimiter=',')\n",
    "data1 = numpy.loadtxt(fname=filenames[1], delimiter=',')\n",
    "\n",
    "fig = matplotlib.pyplot.figure(figsize=(10.0, 3.0))\n",
    "\n",
    "matplotlib.pyplot.ylabel('Difference in average')\n",
    "matplotlib.pyplot.plot(numpy.mean(data0, axis=0) - numpy.mean(data1, axis=0))\n",
    "\n",
    "fig.tight_layout()\n",
    "matplotlib.pyplot.show()"
   ]
  },
  {
   "cell_type": "markdown",
   "id": "6c92d0b0",
   "metadata": {},
   "source": [
    "## Generate Composite Statistics\n",
    "\n",
    "Use each of the files once to generate a dataset containing values averaged over all patients by completing the code inside the loop given below:"
   ]
  },
  {
   "cell_type": "code",
   "execution_count": null,
   "id": "dc070173",
   "metadata": {},
   "outputs": [],
   "source": [
    "filenames = glob.glob('inflammation*.csv')\n",
    "composite_data = numpy.zeros((60, 40))\n",
    "for filename in filenames:\n",
    "    # sum each new file's data into composite_data as it's read\n",
    "    #\n",
    "# and then divide the composite_data by number of samples\n",
    "composite_data = composite_data / len(filenames)"
   ]
  },
  {
   "cell_type": "markdown",
   "id": "4b35462e",
   "metadata": {},
   "source": [
    "Then use pyplot to generate average, max, and min for all patients.\n"
   ]
  },
  {
   "cell_type": "markdown",
   "id": "f42f1e70",
   "metadata": {},
   "source": [
    "## Solution"
   ]
  },
  {
   "cell_type": "code",
   "execution_count": null,
   "id": "d7cd9756",
   "metadata": {
    "lines_to_next_cell": 2
   },
   "outputs": [],
   "source": [
    "import glob\n",
    "import numpy\n",
    "import matplotlib.pyplot\n",
    "\n",
    "filenames = glob.glob('inflammation*.csv')\n",
    "composite_data = numpy.zeros((60, 40))\n",
    "\n",
    "for filename in filenames:\n",
    "    data = numpy.loadtxt(fname = filename, delimiter=',')\n",
    "    composite_data = composite_data + data\n",
    "\n",
    "composite_data = composite_data / len(filenames)\n",
    "\n",
    "fig = matplotlib.pyplot.figure(figsize=(10.0, 3.0))\n",
    "\n",
    "axes1 = fig.add_subplot(1, 3, 1)\n",
    "axes2 = fig.add_subplot(1, 3, 2)\n",
    "axes3 = fig.add_subplot(1, 3, 3)\n",
    "\n",
    "axes1.set_ylabel('average')\n",
    "axes1.plot(numpy.mean(composite_data, axis=0))\n",
    "\n",
    "axes2.set_ylabel('max')\n",
    "axes2.plot(numpy.amax(composite_data, axis=0))\n",
    "\n",
    "axes3.set_ylabel('min')\n",
    "axes3.plot(numpy.amin(composite_data, axis=0))\n",
    "\n",
    "fig.tight_layout()\n",
    "\n",
    "matplotlib.pyplot.show()"
   ]
  },
  {
   "cell_type": "markdown",
   "id": "ac1399e9",
   "metadata": {},
   "source": [
    "After spending some time investigating the heat map and statistical plots, as well as\n",
    "doing the above exercises to plot differences between datasets and to generate composite\n",
    "patient statistics, we gain some insight into the twelve clinical trial datasets.\n",
    "\n",
    "The datasets appear to fall into two categories:\n",
    "\n",
    "- seemingly \"ideal\" datasets that agree excellently with Dr. Maverick's claims,\n",
    "  but display suspicious maxima and minima (such as `inflammation-01.csv` and `inflammation-02.csv`)\n",
    "- \"noisy\" datasets that somewhat agree with Dr. Maverick's claims, but show concerning\n",
    "  data collection issues such as sporadic missing values and even an unsuitable candidate\n",
    "  making it into the clinical trial.\n",
    "\n",
    "In fact, it appears that all three of the \"noisy\" datasets (`inflammation-03.csv`,\n",
    "`inflammation-08.csv`, and `inflammation-11.csv`) are identical down to the last value.\n",
    "Armed with this information, we confront Dr. Maverick about the suspicious data and\n",
    "duplicated files.\n",
    "\n",
    "Dr. Maverick has admitted to fabricating the clinical data for their drug trial. They did this after discovering that the initial trial had several issues, including unreliable data recording and poor participant selection. In order to prove the efficacy of their drug, they created fake data. When asked for additional data, they attempted to generate more fake datasets, and also included the original poor-quality dataset several times in order to make the trials seem more realistic.\n",
    "\n",
    "Congratulations! We've investigated the inflammation data and proven that the datasets have been\n",
    "synthetically generated.\n",
    "\n",
    "But it would be a shame to throw away the synthetic datasets that have taught us so much\n",
    "already, so we'll forgive the imaginary Dr. Maverick and continue to use the data to learn\n",
    "how to program.\n"
   ]
  }
 ],
 "metadata": {
  "jupytext": {
   "cell_metadata_filter": "-all",
   "main_language": "python",
   "notebook_metadata_filter": "-all"
  }
 },
 "nbformat": 4,
 "nbformat_minor": 5
}
