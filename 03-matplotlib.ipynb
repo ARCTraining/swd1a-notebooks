{
 "cells": [
  {
   "cell_type": "markdown",
   "id": "18577110",
   "metadata": {},
   "source": [
    "## Episode Prerequisites\n",
    "\n",
    "If you are continuing in the same notebook from the previous episode, you already\n",
    "have a `data` variable and have imported `numpy`.  If you are starting a new\n",
    "notebook at this point, you need the following two lines:"
   ]
  },
  {
   "cell_type": "code",
   "execution_count": null,
   "id": "07220b85",
   "metadata": {},
   "outputs": [],
   "source": [
    "import numpy\n",
    "data = numpy.loadtxt(fname='inflammation-01.csv', delimiter=',')"
   ]
  },
  {
   "cell_type": "markdown",
   "id": "60758ae8",
   "metadata": {},
   "source": [
    "Please see the [documentation](https://arctraining.github.io/python-novice-inflammation/index.html#obtain-lesson-materials) if you need to download the files again.\n",
    "\n",
    "# Visualizing data\n",
    "\n",
    "The mathematician Richard Hamming once said, \"The purpose of computing is insight, not numbers,\"\n",
    "and the best way to develop insight is often to visualize data.  Visualization deserves an entire\n",
    "lecture of its own, but we can explore a few features of Python's `matplotlib` library here.  While\n",
    "there is no official plotting library, `matplotlib` is the *de facto* standard.  First, we will\n",
    "import the `pyplot` module from `matplotlib` and use two of its functions to create and display a\n",
    "[heat map](../learners/reference.md#heat-map) of our data.\n"
   ]
  },
  {
   "cell_type": "code",
   "execution_count": null,
   "id": "83add54f",
   "metadata": {},
   "outputs": [],
   "source": [
    "import matplotlib.pyplot\n",
    "image = matplotlib.pyplot.imshow(data)\n",
    "matplotlib.pyplot.show()"
   ]
  },
  {
   "cell_type": "markdown",
   "id": "c7e06be6",
   "metadata": {},
   "source": [
    "Each row in the heat map corresponds to a patient in the clinical trial dataset, and each column\n",
    "corresponds to a day in the dataset.  Blue pixels in this heat map represent low values, while\n",
    "yellow pixels represent high values.  As we can see, the general number of inflammation flare-ups\n",
    "for the patients rises and falls over a 40-day period.\n",
    "\n",
    "So far so good as this is in line with our knowledge of the clinical trial and Dr. Maverick's\n",
    "claims:\n",
    "\n",
    "- the patients take their medication once their inflammation flare-ups begin\n",
    "- it takes around 3 weeks for the medication to take effect and begin reducing flare-ups\n",
    "- and flare-ups appear to drop to zero by the end of the clinical trial.\n",
    "\n",
    "Now let's take a look at the average inflammation over time:"
   ]
  },
  {
   "cell_type": "code",
   "execution_count": null,
   "id": "8fa9b3d0",
   "metadata": {},
   "outputs": [],
   "source": [
    "ave_inflammation = numpy.mean(data, axis=0)\n",
    "ave_plot = matplotlib.pyplot.plot(ave_inflammation)\n",
    "matplotlib.pyplot.show()"
   ]
  },
  {
   "cell_type": "markdown",
   "id": "12cea0ec",
   "metadata": {},
   "source": [
    "Here, we have put the average inflammation per day across all patients in the variable\n",
    "`ave_inflammation`, then asked `matplotlib.pyplot` to create and display a line graph of those\n",
    "values.  The result is a reasonably linear rise and fall, in line with Dr. Maverick's claim that\n",
    "the medication takes 3 weeks to take effect.  But a good data scientist doesn't just consider the\n",
    "average of a dataset, so let's have a look at two other statistics:"
   ]
  },
  {
   "cell_type": "code",
   "execution_count": null,
   "id": "002c897b",
   "metadata": {},
   "outputs": [],
   "source": [
    "max_plot = matplotlib.pyplot.plot(numpy.amax(data, axis=0))\n",
    "matplotlib.pyplot.show()"
   ]
  },
  {
   "cell_type": "code",
   "execution_count": null,
   "id": "7faf76a0",
   "metadata": {},
   "outputs": [],
   "source": [
    "min_plot = matplotlib.pyplot.plot(numpy.amin(data, axis=0))\n",
    "matplotlib.pyplot.show()"
   ]
  },
  {
   "cell_type": "markdown",
   "id": "fbc92ad0",
   "metadata": {},
   "source": [
    "The maximum value rises and falls linearly, while the minimum seems to be a step function.\n",
    "Neither trend seems particularly likely, so either there's a mistake in our calculations or\n",
    "something is wrong with our data. This insight would have been difficult to reach by examining\n",
    "the numbers themselves without visualization tools.\n",
    "\n",
    "### Grouping plots\n",
    "\n",
    "You can group similar plots in a single figure using subplots.\n",
    "This script below uses a number of new commands. The function `matplotlib.pyplot.figure()`\n",
    "creates a space into which we will place all of our plots. The parameter `figsize`\n",
    "tells Python how big to make this space. Each subplot is placed into the figure using\n",
    "its `add_subplot` [method](../learners/reference.md#method). The `add_subplot` method takes\n",
    "3 parameters. The first denotes how many total rows of subplots there are, the second parameter\n",
    "refers to the total number of subplot columns, and the final parameter denotes which subplot\n",
    "your variable is referencing (left-to-right, top-to-bottom). Each subplot is stored in a\n",
    "different variable (`axes1`, `axes2`, `axes3`). Once a subplot is created, the axes can\n",
    "be titled using the `set_xlabel()` command (or `set_ylabel()`).\n",
    "Here are our three plots side by side:"
   ]
  },
  {
   "cell_type": "code",
   "execution_count": null,
   "id": "b26cc282",
   "metadata": {},
   "outputs": [],
   "source": [
    "import numpy\n",
    "import matplotlib.pyplot\n",
    "\n",
    "data = numpy.loadtxt(fname='inflammation-01.csv', delimiter=',')\n",
    "\n",
    "fig = matplotlib.pyplot.figure(figsize=(10.0, 3.0))\n",
    "\n",
    "axes1 = fig.add_subplot(1, 3, 1)\n",
    "axes2 = fig.add_subplot(1, 3, 2)\n",
    "axes3 = fig.add_subplot(1, 3, 3)\n",
    "\n",
    "axes1.set_ylabel('average')\n",
    "axes1.plot(numpy.mean(data, axis=0))\n",
    "\n",
    "axes2.set_ylabel('max')\n",
    "axes2.plot(numpy.amax(data, axis=0))\n",
    "\n",
    "axes3.set_ylabel('min')\n",
    "axes3.plot(numpy.amin(data, axis=0))\n",
    "\n",
    "fig.tight_layout()\n",
    "\n",
    "matplotlib.pyplot.savefig('inflammation.png')\n",
    "matplotlib.pyplot.show()"
   ]
  },
  {
   "cell_type": "markdown",
   "id": "d8ff7d77",
   "metadata": {},
   "source": [
    "The call to `loadtxt` reads our data,\n",
    "and the rest of the program tells the plotting library\n",
    "how large we want the figure to be,\n",
    "that we're creating three subplots,\n",
    "what to draw for each one,\n",
    "and that we want a tight layout.\n",
    "(If we leave out that call to `fig.tight_layout()`,\n",
    "the graphs will actually be squeezed together more closely.)\n",
    "\n",
    "The call to `savefig` stores the plot as a graphics file. This can be\n",
    "a convenient way to store your plots for use in other documents, web\n",
    "pages etc. The graphics format is automatically determined by\n",
    "Matplotlib from the file name ending we specify; here PNG from\n",
    "'inflammation.png'. Matplotlib supports many different graphics\n",
    "formats, including SVG, PDF, and JPEG."
   ]
  },
  {
   "cell_type": "markdown",
   "id": "e507afe5",
   "metadata": {},
   "source": [
    "## Importing libraries with shortcuts\n",
    "\n",
    "In this lesson we use the `import matplotlib.pyplot`\n",
    "[syntax](../learners/reference.md#syntax)\n",
    "to import the `pyplot` module of `matplotlib`. However, shortcuts such as\n",
    "`import matplotlib.pyplot as plt` are frequently used.\n",
    "Importing `pyplot` this way means that after the initial import, rather than writing\n",
    "`matplotlib.pyplot.plot(...)`, you can now write `plt.plot(...)`.\n",
    "Another common convention is to use the shortcut `import numpy as np` when importing the\n",
    "NumPy library. We then can write `np.loadtxt(...)` instead of `numpy.loadtxt(...)`,\n",
    "for example.\n",
    "\n",
    "Some people prefer these shortcuts as it is quicker to type and results in shorter\n",
    "lines of code - especially for libraries with long names! You will frequently see\n",
    "Python code online using a `pyplot` function with `plt`, or a NumPy function with\n",
    "`np`, and it's because they've used this shortcut. It makes no difference which\n",
    "approach you choose to take, but you must be consistent as if you use\n",
    "`import matplotlib.pyplot as plt` then `matplotlib.pyplot.plot(...)` will not work, and\n",
    "you must use `plt.plot(...)` instead. Because of this, when working with other people it\n",
    "is important you agree on how libraries are imported."
   ]
  },
  {
   "cell_type": "markdown",
   "id": "a57e187f",
   "metadata": {},
   "source": [
    ">Why do all of our plots stop just short of the upper end of our graph?\n",
    ">\n",
    ">Because matplotlib normally sets x and y axes limits to the min and max of our data\n",
    ">(depending on data range)"
   ]
  },
  {
   "cell_type": "markdown",
   "id": "14c60af3",
   "metadata": {},
   "source": [
    "If we want to change this, we can use the `set_ylim(min, max)` method of each 'axes',\n",
    "for example:"
   ]
  },
  {
   "cell_type": "code",
   "execution_count": null,
   "id": "f2a95cec",
   "metadata": {},
   "outputs": [],
   "source": [
    "axes3.set_ylim(0, 6)"
   ]
  },
  {
   "cell_type": "markdown",
   "id": "98fd5e64",
   "metadata": {},
   "source": [
    "Update your plotting code to automatically set a more appropriate scale.\n",
    "(Hint: you can make use of the `max` and `min` methods to help.)"
   ]
  },
  {
   "cell_type": "markdown",
   "id": "5d0a1b58",
   "metadata": {},
   "source": [
    "## Solution"
   ]
  },
  {
   "cell_type": "code",
   "execution_count": null,
   "id": "7d849027",
   "metadata": {
    "lines_to_next_cell": 2
   },
   "outputs": [],
   "source": [
    "# One method\n",
    "axes3.set_ylabel('min')\n",
    "axes3.plot(numpy.amin(data, axis=0))\n",
    "axes3.set_ylim(0, 6)"
   ]
  },
  {
   "cell_type": "code",
   "execution_count": null,
   "id": "edbb1341",
   "metadata": {},
   "outputs": [],
   "source": [
    "# A more automated approach\n",
    "min_data = numpy.amin(data, axis=0)\n",
    "axes3.set_ylabel('min')\n",
    "axes3.plot(min_data)\n",
    "axes3.set_ylim(numpy.amin(min_data), numpy.amax(min_data) * 1.1)"
   ]
  },
  {
   "cell_type": "markdown",
   "id": "8ddb80b7",
   "metadata": {},
   "source": [
    "## Drawing Straight Lines\n",
    "\n",
    "In the center and right subplots above, we expect all lines to look like step functions because\n",
    "non-integer value are not realistic for the minimum and maximum values. However, you can see\n",
    "that the lines are not always vertical or horizontal, and in particular the step function\n",
    "in the subplot on the right looks slanted. Why is this?"
   ]
  },
  {
   "cell_type": "markdown",
   "id": "adaab0d2",
   "metadata": {},
   "source": [
    "## Solution\n",
    "\n",
    "Because matplotlib interpolates (draws a straight line) between the points.\n",
    "One way to do avoid this is to use the Matplotlib `drawstyle` option:"
   ]
  },
  {
   "cell_type": "code",
   "execution_count": null,
   "id": "189de5a3",
   "metadata": {
    "lines_to_next_cell": 2
   },
   "outputs": [],
   "source": [
    "import numpy\n",
    "import matplotlib.pyplot\n",
    "\n",
    "data = numpy.loadtxt(fname='inflammation-01.csv', delimiter=',')\n",
    "\n",
    "fig = matplotlib.pyplot.figure(figsize=(10.0, 3.0))\n",
    "\n",
    "axes1 = fig.add_subplot(1, 3, 1)\n",
    "axes2 = fig.add_subplot(1, 3, 2)\n",
    "axes3 = fig.add_subplot(1, 3, 3)\n",
    "\n",
    "axes1.set_ylabel('average')\n",
    "axes1.plot(numpy.mean(data, axis=0), drawstyle='steps-mid')\n",
    "\n",
    "axes2.set_ylabel('max')\n",
    "axes2.plot(numpy.amax(data, axis=0), drawstyle='steps-mid')\n",
    "\n",
    "axes3.set_ylabel('min')\n",
    "axes3.plot(numpy.amin(data, axis=0), drawstyle='steps-mid')\n",
    "\n",
    "fig.tight_layout()\n",
    "\n",
    "matplotlib.pyplot.show()"
   ]
  },
  {
   "cell_type": "markdown",
   "id": "0a7adf84",
   "metadata": {},
   "source": [
    "## Make Your Own Plot\n",
    "\n",
    "Create a plot showing the standard deviation (`numpy.std`)\n",
    "of the inflammation data for each day across all patients."
   ]
  },
  {
   "cell_type": "markdown",
   "id": "003f7399",
   "metadata": {},
   "source": [
    "## Solution"
   ]
  },
  {
   "cell_type": "code",
   "execution_count": null,
   "id": "6bcbf58d",
   "metadata": {},
   "outputs": [],
   "source": [
    "std_plot = matplotlib.pyplot.plot(numpy.std(data, axis=0))\n",
    "matplotlib.pyplot.show()"
   ]
  },
  {
   "cell_type": "markdown",
   "id": "4ed8d6d5",
   "metadata": {},
   "source": [
    "## Moving Plots Around\n",
    "\n",
    "Modify the program to display the three plots on top of one another\n",
    "instead of side by side.\n",
    "\n",
    "## Solution"
   ]
  },
  {
   "cell_type": "code",
   "execution_count": null,
   "id": "93f699e2",
   "metadata": {},
   "outputs": [],
   "source": [
    "import numpy\n",
    "import matplotlib.pyplot\n",
    "\n",
    "data = numpy.loadtxt(fname='inflammation-01.csv', delimiter=',')\n",
    "\n",
    "# change figsize (swap width and height)\n",
    "fig = matplotlib.pyplot.figure(figsize=(3.0, 10.0))\n",
    "\n",
    "# change add_subplot (swap first two parameters)\n",
    "axes1 = fig.add_subplot(3, 1, 1)\n",
    "axes2 = fig.add_subplot(3, 1, 2)\n",
    "axes3 = fig.add_subplot(3, 1, 3)\n",
    "\n",
    "axes1.set_ylabel('average')\n",
    "axes1.plot(numpy.mean(data, axis=0))\n",
    "\n",
    "axes2.set_ylabel('max')\n",
    "axes2.plot(numpy.amax(data, axis=0))\n",
    "\n",
    "axes3.set_ylabel('min')\n",
    "axes3.plot(numpy.amin(data, axis=0))\n",
    "\n",
    "fig.tight_layout()\n",
    "\n",
    "matplotlib.pyplot.show()"
   ]
  },
  {
   "cell_type": "markdown",
   "id": "8dd5d643",
   "metadata": {},
   "source": [
    "- Use the `pyplot` module from the `matplotlib` library for creating simple visualizations.\n",
    "\n"
   ]
  }
 ],
 "metadata": {
  "jupytext": {
   "cell_metadata_filter": "-all",
   "main_language": "python",
   "notebook_metadata_filter": "-all"
  }
 },
 "nbformat": 4,
 "nbformat_minor": 5
}
