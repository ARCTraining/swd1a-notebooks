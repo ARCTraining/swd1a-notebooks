{
 "cells": [
  {
   "cell_type": "markdown",
   "id": "f9127ad7",
   "metadata": {},
   "source": [
    "# Choices\n",
    "\n",
    "In our last lesson, we discovered something suspicious was going on\n",
    "in our inflammation data by drawing some plots.\n",
    "How can we use Python to automatically recognize the different features we saw,\n",
    "and take a different action for each? In this lesson, we'll learn how to write code that\n",
    "runs only when certain conditions are true.\n",
    "\n",
    "## Conditionals\n",
    "\n",
    "We can ask Python to take different actions, depending on a condition, with an `if` statement:\n"
   ]
  },
  {
   "cell_type": "code",
   "execution_count": null,
   "id": "1f4e5951",
   "metadata": {
    "lines_to_next_cell": 0
   },
   "outputs": [],
   "source": [
    "num = 37\n",
    "if num > 100:\n",
    "    print('greater')\n",
    "else:\n",
    "    print('not greater')\n",
    "print('done')"
   ]
  },
  {
   "cell_type": "markdown",
   "id": "c69e060f",
   "metadata": {},
   "source": []
  },
  {
   "cell_type": "markdown",
   "id": "caf7ca03",
   "metadata": {},
   "source": [
    "The second line of this code uses the keyword `if` to tell Python that we want to make a choice.\n",
    "If the test that follows the `if` statement is true,\n",
    "the body of the `if`\n",
    "(i.e., the set of lines indented underneath it) is executed, and \"greater\" is printed.\n",
    "If the test is false,\n",
    "the body of the `else` is executed instead, and \"not greater\" is printed.\n",
    "Only one or the other is ever executed before continuing on with program execution to print \"done\".\n",
    "\n",
    "Conditional statements don't have to include an `else`.\n",
    "If there isn't one,\n",
    "Python simply does nothing if the test is false:"
   ]
  },
  {
   "cell_type": "code",
   "execution_count": null,
   "id": "76e805c9",
   "metadata": {},
   "outputs": [],
   "source": [
    "num = 53\n",
    "print('before conditional...')\n",
    "if num > 100:\n",
    "    print(num, 'is greater than 100')\n",
    "print('...after conditional')"
   ]
  },
  {
   "cell_type": "markdown",
   "id": "5da0823f",
   "metadata": {},
   "source": [
    "We can also chain several tests together using `elif`,\n",
    "which is short for \"else if\".\n",
    "The following Python code uses `elif` to print the sign of a number."
   ]
  },
  {
   "cell_type": "code",
   "execution_count": null,
   "id": "f5ca4531",
   "metadata": {
    "lines_to_next_cell": 2
   },
   "outputs": [],
   "source": [
    "num = -3\n",
    "\n",
    "if num > 0:\n",
    "    print(num, 'is positive')\n",
    "elif num == 0:\n",
    "    print(num, 'is zero')\n",
    "else:\n",
    "    print(num, 'is negative')"
   ]
  },
  {
   "cell_type": "markdown",
   "id": "00ec9e00",
   "metadata": {},
   "source": [
    "Note that to test for equality we use a double equals sign `==`\n",
    "rather than a single equals sign `=` which is used to assign values."
   ]
  },
  {
   "cell_type": "markdown",
   "id": "a36a41af",
   "metadata": {},
   "source": [
    "## Comparing in Python\n",
    "\n",
    "Along with the `>` and `==` operators we have already used for comparing values in our\n",
    "conditionals, there are a few more options to know about:\n",
    "\n",
    "- `>`: greater than\n",
    "- `<`: less than\n",
    "- `==`: equal to\n",
    "- `!=`: does not equal\n",
    "- `>=`: greater than or equal to\n",
    "- `<=`: less than or equal to"
   ]
  },
  {
   "cell_type": "markdown",
   "id": "1a9c05fe",
   "metadata": {},
   "source": [
    "We can also combine tests using `and` and `or`.\n",
    "`and` is only true if both parts are true:"
   ]
  },
  {
   "cell_type": "code",
   "execution_count": null,
   "id": "6aec12b9",
   "metadata": {},
   "outputs": [],
   "source": [
    "if (1 > 0) and (-1 >= 0):\n",
    "    print('both parts are true')\n",
    "else:\n",
    "    print('at least one part is false')"
   ]
  },
  {
   "cell_type": "markdown",
   "id": "d525d98a",
   "metadata": {},
   "source": [
    "while `or` is true if at least one part is true:"
   ]
  },
  {
   "cell_type": "code",
   "execution_count": null,
   "id": "9bdb0c76",
   "metadata": {
    "lines_to_next_cell": 2
   },
   "outputs": [],
   "source": [
    "if (1 < 0) or (1 >= 0):\n",
    "    print('at least one test is true')"
   ]
  },
  {
   "cell_type": "markdown",
   "id": "b988a2b1",
   "metadata": {},
   "source": [
    "## `True` and `False`\n",
    "\n",
    "`True` and `False` are special words in Python called `booleans`,\n",
    "which represent truth values. A statement such as `1 < 0` returns\n",
    "the value `False`, while `-1 < 0` returns the value `True`.\n"
   ]
  },
  {
   "cell_type": "markdown",
   "id": "a7de99a6",
   "metadata": {},
   "source": [
    "## Checking our Data\n",
    "\n",
    "Now that we've seen how conditionals work,\n",
    "we can use them to check for the suspicious features we saw in our inflammation data.\n",
    "We are about to use functions provided by the `numpy` module again.\n",
    "Therefore, if you're working in a new Python session, make sure to load the\n",
    "module and data with:"
   ]
  },
  {
   "cell_type": "code",
   "execution_count": null,
   "id": "3a0ebb95",
   "metadata": {},
   "outputs": [],
   "source": [
    "import numpy\n",
    "data = numpy.loadtxt(fname='inflammation-01.csv', delimiter=',')"
   ]
  },
  {
   "cell_type": "markdown",
   "id": "4c82e5f4",
   "metadata": {},
   "source": [
    "From the first couple of plots, we saw that maximum daily inflammation exhibits\n",
    "a strange behavior and raises one unit a day.\n",
    "Wouldn't it be a good idea to detect such behavior and report it as suspicious?\n",
    "Let's do that!\n",
    "However, instead of checking every single day of the study, let's merely check\n",
    "if maximum inflammation in the beginning (day 0) and in the middle (day 20) of\n",
    "the study are equal to the corresponding day numbers."
   ]
  },
  {
   "cell_type": "code",
   "execution_count": null,
   "id": "79393a59",
   "metadata": {},
   "outputs": [],
   "source": [
    "max_inflammation_0 = numpy.amax(data, axis=0)[0]\n",
    "max_inflammation_20 = numpy.amax(data, axis=0)[20]\n",
    "\n",
    "if max_inflammation_0 == 0 and max_inflammation_20 == 20:\n",
    "    print('Suspicious looking maxima!')"
   ]
  },
  {
   "cell_type": "markdown",
   "id": "c525e9fc",
   "metadata": {},
   "source": [
    "We also saw a different problem in the third dataset;\n",
    "the minima per day were all zero (looks like a healthy person snuck into our study).\n",
    "We can also check for this with an `elif` condition:"
   ]
  },
  {
   "cell_type": "code",
   "execution_count": null,
   "id": "81c00d19",
   "metadata": {},
   "outputs": [],
   "source": [
    "elif numpy.sum(numpy.amin(data, axis=0)) == 0:\n",
    "    print('Minima add up to zero!')"
   ]
  },
  {
   "cell_type": "markdown",
   "id": "f2768cd3",
   "metadata": {},
   "source": [
    "And if neither of these conditions are true, we can use `else` to give the all-clear:"
   ]
  },
  {
   "cell_type": "code",
   "execution_count": null,
   "id": "0bbc1fb1",
   "metadata": {},
   "outputs": [],
   "source": [
    "else:\n",
    "    print('Seems OK!')"
   ]
  },
  {
   "cell_type": "markdown",
   "id": "730042fd",
   "metadata": {},
   "source": [
    "Let's test that out:"
   ]
  },
  {
   "cell_type": "code",
   "execution_count": null,
   "id": "c0e5c651",
   "metadata": {
    "lines_to_next_cell": 2
   },
   "outputs": [],
   "source": [
    "data = numpy.loadtxt(fname='inflammation-01.csv', delimiter=',')\n",
    "\n",
    "max_inflammation_0 = numpy.amax(data, axis=0)[0]\n",
    "max_inflammation_20 = numpy.amax(data, axis=0)[20]\n",
    "\n",
    "if max_inflammation_0 == 0 and max_inflammation_20 == 20:\n",
    "    print('Suspicious looking maxima!')\n",
    "elif numpy.sum(numpy.amin(data, axis=0)) == 0:\n",
    "    print('Minima add up to zero!')\n",
    "else:\n",
    "    print('Seems OK!')"
   ]
  },
  {
   "cell_type": "code",
   "execution_count": null,
   "id": "c4238fe8",
   "metadata": {
    "lines_to_next_cell": 2
   },
   "outputs": [],
   "source": [
    "data = numpy.loadtxt(fname='inflammation-03.csv', delimiter=',')\n",
    "\n",
    "max_inflammation_0 = numpy.amax(data, axis=0)[0]\n",
    "max_inflammation_20 = numpy.amax(data, axis=0)[20]\n",
    "\n",
    "if max_inflammation_0 == 0 and max_inflammation_20 == 20:\n",
    "    print('Suspicious looking maxima!')\n",
    "elif numpy.sum(numpy.amin(data, axis=0)) == 0:\n",
    "    print('Minima add up to zero!')\n",
    "else:\n",
    "    print('Seems OK!')"
   ]
  },
  {
   "cell_type": "markdown",
   "id": "1032b5a4",
   "metadata": {},
   "source": [
    "In this way,\n",
    "we have asked Python to do something different depending on the condition of our data.\n",
    "Here we printed messages in all cases,\n",
    "but we could also imagine not using the `else` catch-all\n",
    "so that messages are only printed when something is wrong,\n",
    "freeing us from having to manually examine every plot for features we've seen before."
   ]
  },
  {
   "cell_type": "markdown",
   "id": "b4aeca7e",
   "metadata": {},
   "source": [
    "## How Many Paths?\n",
    "\n",
    "Consider this code:"
   ]
  },
  {
   "cell_type": "code",
   "execution_count": null,
   "id": "a46a77be",
   "metadata": {},
   "outputs": [],
   "source": [
    "if 4 > 5:\n",
    "    print('A')\n",
    "elif 4 == 5:\n",
    "    print('B')\n",
    "elif 4 < 5:\n",
    "    print('C')"
   ]
  },
  {
   "cell_type": "markdown",
   "id": "472bfb28",
   "metadata": {},
   "source": [
    "Which of the following would be printed if you were to run this code?\n",
    "Why did you pick this answer?\n",
    "\n",
    "1. A\n",
    "2. B\n",
    "3. C\n",
    "4. B and C"
   ]
  },
  {
   "cell_type": "markdown",
   "id": "01cdec2c",
   "metadata": {},
   "source": [
    "## Solution\n",
    "\n",
    "C gets printed because the first two conditions, `4 > 5` and `4 == 5`, are not true,\n",
    "but `4 < 5` is true.\n",
    "In this case only one of these conditions can be true for at a time, but in other\n",
    "scenarios multiple `elif` conditions could be met. In these scenarios only the action\n",
    "associated with the first true `elif` condition will occur, starting from the top of the\n",
    "conditional section.\n",
    "![](fig/python-else-if.png){alt='A flowchart diagram of a conditional section with multiple elif conditions and some possible outcomes.'}\n",
    "This contrasts with the case of multiple `if` statements, where every action can occur\n",
    "as long as their condition is met.\n",
    "![](fig/python-multi-if.png){alt='A flowchart diagram of a conditional section with multiple if statements and some possible outcomes.'}\n"
   ]
  },
  {
   "cell_type": "markdown",
   "id": "f999e04b",
   "metadata": {},
   "source": [
    "## What Is Truth?\n",
    "\n",
    "`True` and `False` booleans are not the only values in Python that are true and false.\n",
    "In fact, *any* value can be used in an `if` or `elif`.\n",
    "After reading and running the code below,\n",
    "explain what the rule is for which values are considered true and which are considered false."
   ]
  },
  {
   "cell_type": "code",
   "execution_count": null,
   "id": "aeb49eb7",
   "metadata": {
    "lines_to_next_cell": 2
   },
   "outputs": [],
   "source": [
    "if '':\n",
    "    print('empty string is true')\n",
    "if 'word':\n",
    "    print('word is true')\n",
    "if []:\n",
    "    print('empty list is true')\n",
    "if [1, 2, 3]:\n",
    "    print('non-empty list is true')\n",
    "if 0:\n",
    "    print('zero is true')\n",
    "if 1:\n",
    "    print('one is true')"
   ]
  },
  {
   "cell_type": "markdown",
   "id": "ce2a3937",
   "metadata": {},
   "source": [
    "## That's Not Not What I Meant\n",
    "\n",
    "Sometimes it is useful to check whether some condition is not true.\n",
    "The Boolean operator `not` can do this explicitly.\n",
    "After reading and running the code below,\n",
    "write some `if` statements that use `not` to test the rule\n",
    "that you formulated in the previous challenge."
   ]
  },
  {
   "cell_type": "code",
   "execution_count": null,
   "id": "1ca2146c",
   "metadata": {
    "lines_to_next_cell": 2
   },
   "outputs": [],
   "source": [
    "if not '':\n",
    "    print('empty string is not true')\n",
    "if not 'word':\n",
    "    print('word is not true')\n",
    "if not not True:\n",
    "    print('not not True is true')"
   ]
  },
  {
   "cell_type": "markdown",
   "id": "bcbca46b",
   "metadata": {},
   "source": [
    "## Close Enough\n",
    "\n",
    "Write some conditions that print `True` if the variable `a` is within 10% of the variable `b`\n",
    "and `False` otherwise.\n",
    "Compare your implementation with your partner's:\n",
    "do you get the same answer for all possible pairs of numbers?\n",
    "\n",
    "## Hint\n",
    "\n",
    "There is a [built-in function `abs`][abs-function] that returns the absolute value of\n",
    "a number:"
   ]
  },
  {
   "cell_type": "code",
   "execution_count": null,
   "id": "87f4cece",
   "metadata": {
    "lines_to_next_cell": 2
   },
   "outputs": [],
   "source": [
    "print(abs(-12))"
   ]
  },
  {
   "cell_type": "markdown",
   "id": "eaf771f7",
   "metadata": {},
   "source": [
    "## Solution 1"
   ]
  },
  {
   "cell_type": "code",
   "execution_count": null,
   "id": "30eb3aab",
   "metadata": {
    "lines_to_next_cell": 2
   },
   "outputs": [],
   "source": [
    "a = 5\n",
    "b = 5.1\n",
    "\n",
    "if abs(a - b) <= 0.1 * abs(b):\n",
    "    print('True')\n",
    "else:\n",
    "    print('False')"
   ]
  },
  {
   "cell_type": "markdown",
   "id": "bce89605",
   "metadata": {},
   "source": [
    "## Solution 2"
   ]
  },
  {
   "cell_type": "code",
   "execution_count": null,
   "id": "1769c322",
   "metadata": {},
   "outputs": [],
   "source": [
    "print(abs(a - b) <= 0.1 * abs(b))"
   ]
  },
  {
   "cell_type": "markdown",
   "id": "6d72ad25",
   "metadata": {},
   "source": [
    "This works because the Booleans `True` and `False`\n",
    "have string representations which can be printed."
   ]
  },
  {
   "cell_type": "markdown",
   "id": "24ba5f74",
   "metadata": {},
   "source": [
    "## In-Place Operators\n",
    "\n",
    "Python (and most other languages in the C family) provides\n",
    "[in-place operators](../learners/reference.md#in-place-operators)\n",
    "that work like this:"
   ]
  },
  {
   "cell_type": "code",
   "execution_count": null,
   "id": "5a7eeaf2",
   "metadata": {
    "lines_to_next_cell": 2
   },
   "outputs": [],
   "source": [
    "x = 1  # original value\n",
    "x += 1 # add one to x, assigning result back to x\n",
    "x *= 3 # multiply x by 3\n",
    "print(x)"
   ]
  },
  {
   "cell_type": "markdown",
   "id": "94e2bec9",
   "metadata": {},
   "source": [
    "Write some code that sums the positive and negative numbers in a list separately,\n",
    "using in-place operators.\n",
    "Do you think the result is more or less readable\n",
    "than writing the same without in-place operators?"
   ]
  },
  {
   "cell_type": "markdown",
   "id": "6164b74a",
   "metadata": {},
   "source": [
    "## Solution"
   ]
  },
  {
   "cell_type": "code",
   "execution_count": null,
   "id": "5b00df13",
   "metadata": {},
   "outputs": [],
   "source": [
    "positive_sum = 0\n",
    "negative_sum = 0\n",
    "test_list = [3, 4, 6, 1, -1, -5, 0, 7, -8]\n",
    "for num in test_list:\n",
    "    if num > 0:\n",
    "        positive_sum += num\n",
    "    elif num == 0:\n",
    "        pass\n",
    "    else:\n",
    "        negative_sum += num\n",
    "print(positive_sum, negative_sum)"
   ]
  },
  {
   "cell_type": "markdown",
   "id": "4a42cc16",
   "metadata": {},
   "source": [
    "Here `pass` means \"don't do anything\".\n",
    "In this particular case, it's not actually needed, since if `num == 0` neither\n",
    "sum needs to change, but it illustrates the use of `elif` and `pass`."
   ]
  },
  {
   "cell_type": "markdown",
   "id": "cbcf1552",
   "metadata": {},
   "source": [
    "## Sorting a List Into Buckets\n",
    "\n",
    "In our `data` folder, large data sets are stored in files whose names start with\n",
    "\"inflammation-\" and small data sets -- in files whose names start with \"small-\". We\n",
    "also have some other files that we do not care about at this point. We'd like to break all\n",
    "these files into three lists called `large_files`, `small_files`, and `other_files`,\n",
    "respectively.\n",
    "\n",
    "Add code to the template below to do this. Note that the string method\n",
    "[`startswith`](https://docs.python.org/3/library/stdtypes.html#str.startswith)\n",
    "returns `True` if and only if the string it is called on starts with the string\n",
    "passed as an argument, that is:"
   ]
  },
  {
   "cell_type": "code",
   "execution_count": null,
   "id": "2f79e27d",
   "metadata": {
    "lines_to_next_cell": 2
   },
   "outputs": [],
   "source": [
    "'String'.startswith('Str')"
   ]
  },
  {
   "cell_type": "markdown",
   "id": "560e0e1d",
   "metadata": {},
   "source": [
    "But"
   ]
  },
  {
   "cell_type": "code",
   "execution_count": null,
   "id": "cdf0ced7",
   "metadata": {
    "lines_to_next_cell": 2
   },
   "outputs": [],
   "source": [
    "'String'.startswith('str')"
   ]
  },
  {
   "cell_type": "markdown",
   "id": "424527c6",
   "metadata": {},
   "source": [
    "Use the following Python code as your starting point:"
   ]
  },
  {
   "cell_type": "code",
   "execution_count": null,
   "id": "c7d0c46e",
   "metadata": {},
   "outputs": [],
   "source": [
    "filenames = ['inflammation-01.csv',\n",
    "         'myscript.py',\n",
    "         'inflammation-02.csv',\n",
    "         'small-01.csv',\n",
    "         'small-02.csv']\n",
    "large_files = []\n",
    "small_files = []\n",
    "other_files = []"
   ]
  },
  {
   "cell_type": "markdown",
   "id": "dd008980",
   "metadata": {},
   "source": [
    "Your solution should:\n",
    "\n",
    "1. loop over the names of the files\n",
    "2. figure out which group each filename belongs in\n",
    "3. append the filename to that list\n",
    "\n",
    "In the end the three lists should be:"
   ]
  },
  {
   "cell_type": "code",
   "execution_count": null,
   "id": "a8034f29",
   "metadata": {},
   "outputs": [],
   "source": [
    "large_files = ['inflammation-01.csv', 'inflammation-02.csv']\n",
    "small_files = ['small-01.csv', 'small-02.csv']\n",
    "other_files = ['myscript.py']"
   ]
  },
  {
   "cell_type": "markdown",
   "id": "3e47cb29",
   "metadata": {},
   "source": [
    "## Solution"
   ]
  },
  {
   "cell_type": "code",
   "execution_count": null,
   "id": "c8d60394",
   "metadata": {},
   "outputs": [],
   "source": [
    "for filename in filenames:\n",
    "    if filename.startswith('inflammation-'):\n",
    "        large_files.append(filename)\n",
    "    elif filename.startswith('small-'):\n",
    "        small_files.append(filename)\n",
    "    else:\n",
    "        other_files.append(filename)\n",
    "\n",
    "print('large_files:', large_files)\n",
    "print('small_files:', small_files)\n",
    "print('other_files:', other_files)"
   ]
  },
  {
   "cell_type": "markdown",
   "id": "cf903ffd",
   "metadata": {},
   "source": [
    "## Counting Vowels\n",
    "\n",
    "1. Write a loop that counts the number of vowels in a character string.\n",
    "2. Test it on a few individual words and full sentences.\n",
    "3. Once you are done, compare your solution to your neighbor's.\n",
    "  Did you make the same decisions about how to handle the letter 'y'\n",
    "  (which some people think is a vowel, and some do not)?"
   ]
  },
  {
   "cell_type": "markdown",
   "id": "ad57faaf",
   "metadata": {},
   "source": [
    "## Solution"
   ]
  },
  {
   "cell_type": "code",
   "execution_count": null,
   "id": "760cff68",
   "metadata": {
    "lines_to_next_cell": 2
   },
   "outputs": [],
   "source": [
    "vowels = 'aeiouAEIOU'\n",
    "sentence = 'Mary had a little lamb.'\n",
    "count = 0\n",
    "for char in sentence:\n",
    "    if char in vowels:\n",
    "        count += 1\n",
    "\n",
    "print('The number of vowels in this string is ' + str(count))"
   ]
  },
  {
   "cell_type": "markdown",
   "id": "49c291ec",
   "metadata": {},
   "source": [
    "[abs-function]: https://docs.python.org/3/library/functions.html#abs"
   ]
  },
  {
   "cell_type": "markdown",
   "id": "33292951",
   "metadata": {},
   "source": [
    "## Keypoints\n",
    "\n",
    "- Use `if condition` to start a conditional statement, `elif condition` to provide additional tests, and `else` to provide a default.\n",
    "- The bodies of the branches of conditional statements must be indented.\n",
    "- Use `==` to test for equality.\n",
    "- `X and Y` is only true if both `X` and `Y` are true.\n",
    "- `X or Y` is true if either `X` or `Y`, or both, are true.\n",
    "- Zero, the empty string, and the empty list are considered false; all other numbers, strings, and lists are considered true.\n",
    "- `True` and `False` represent truth values.\n"
   ]
  }
 ],
 "metadata": {
  "jupytext": {
   "cell_metadata_filter": "-all",
   "main_language": "python",
   "notebook_metadata_filter": "-all"
  }
 },
 "nbformat": 4,
 "nbformat_minor": 5
}
